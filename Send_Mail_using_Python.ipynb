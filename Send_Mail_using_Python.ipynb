{
 "cells": [
  {
   "cell_type": "markdown",
   "metadata": {},
   "source": [
    "# Send Mail using Python\n",
    "The goal of this project is to send automated emails whenever a user enters his name and email. We establish an unsecured SMTP connection and encrypt it using .starttls().\n",
    "\n",
    "### How SSL works:\n",
    "When an email client sends and receives email, it uses TCP (Transmission Control Protocol) via the transport layer to initiate a “handshake” with the email server. During that basic setup process, the email client tells the email server which version of SSL or TLS it’s running and what cipher suites and compression methods it wants to use.\n",
    "\n",
    "After the setup is finished, the email server verifies its identity to the email client by sending a certificate that is trusted by the user’s software, or by a third party trusted by it. Doing so ensures that the email client isn’t sending messages to an imposter. Once the client knows it can trust the server, a key is exchanged between the two, which allows all messages sent and received to be encrypted."
   ]
  },
  {
   "cell_type": "code",
   "execution_count": 18,
   "metadata": {},
   "outputs": [],
   "source": [
    "import smtplib"
   ]
  },
  {
   "cell_type": "code",
   "execution_count": 19,
   "metadata": {},
   "outputs": [
    {
     "name": "stdout",
     "output_type": "stream",
     "text": [
      "Enter your name Sudeep\n",
      "Enter your email ph4nt0m55@gmail.com\n",
      "Email Sent!\n"
     ]
    }
   ],
   "source": [
    "def automatic_mail():\n",
    "    sender_mail = \"sudeepdesai007@gmail.com\"\n",
    "    user = input(\"Enter your name \")\n",
    "    receiver_mail = input(\"Enter your email \")\n",
    "    smtp_server = 'smtp.gmail.com'\n",
    "    port = 587 #required to connect gmail\n",
    "    message = f\"\"\"\\\n",
    "Subject: Hi {user}!!\n",
    "\n",
    "This is an automated mail generated using Python.\"\"\"\n",
    "    try:\n",
    "        s = smtplib.SMTP(smtp_server, port)\n",
    "        s.starttls()  #To secure the connection. \n",
    "\n",
    "\n",
    "        s.login(sender_mail,\"16-digit key\") #Provide the login details i.e email-id and 2-factor generated app key\n",
    "        s.sendmail(sender_mail, receiver_mail, message)\n",
    "        print(\"Email Sent!\")\n",
    "    \n",
    "    except Exception as e:\n",
    "        print(e)\n",
    "        \n",
    "    finally:\n",
    "        s.quit()\n",
    "        \n",
    "automatic_mail()"
   ]
  },
  {
   "cell_type": "code",
   "execution_count": null,
   "metadata": {},
   "outputs": [],
   "source": []
  }
 ],
 "metadata": {
  "kernelspec": {
   "display_name": "Python 3",
   "language": "python",
   "name": "python3"
  },
  "language_info": {
   "codemirror_mode": {
    "name": "ipython",
    "version": 3
   },
   "file_extension": ".py",
   "mimetype": "text/x-python",
   "name": "python",
   "nbconvert_exporter": "python",
   "pygments_lexer": "ipython3",
   "version": "3.8.5"
  }
 },
 "nbformat": 4,
 "nbformat_minor": 4
}
